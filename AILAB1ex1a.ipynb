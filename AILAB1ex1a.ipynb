{
  "nbformat": 4,
  "nbformat_minor": 0,
  "metadata": {
    "colab": {
      "provenance": []
    },
    "kernelspec": {
      "name": "python3",
      "display_name": "Python 3"
    },
    "language_info": {
      "name": "python"
    },
    "accelerator": "TPU",
    "gpuClass": "standard"
  },
  "cells": [
    {
      "cell_type": "markdown",
      "source": [
        "***Utkarsh Sharma AI LAB***\n",
        "\n",
        "***Here are the steps to train a basic autoencoder on the Fashion MNIST dataset:***\n",
        "\n",
        "***Load the Fashion MNIST dataset and preprocess the data, such as normalizing the pixel values.\n",
        "Define the architecture of the autoencoder. A typical architecture would consist of an encoder followed by a decoder. The encoder will reduce the input to a lower-dimensional representation (latent code), and the decoder will then reconstruct the original image from the latent code.\n",
        "Compile the model by specifying the optimizer, loss function, and metrics to track during training.\n",
        "Train the model on the Fashion MNIST data by specifying the number of epochs and batch size.\n",
        "Evaluate the model on a validation set to ensure that it is capable of reconstructing images accurately.\n",
        "Finally, use the trained model to reconstruct images from the test set and visually inspect the results to verify that the autoencoder has learned a meaningful representation of the data.***"
      ],
      "metadata": {
        "id": "JJzA7gN1c1AU"
      }
    },
    {
      "cell_type": "code",
      "source": [
        "# Import the required libraries\n",
        "import numpy as np\n",
        "import matplotlib.pyplot as plt\n",
        "import tensorflow as tf\n",
        "from tensorflow import keras\n",
        "from tensorflow.keras import layers\n",
        "from tensorflow.keras.datasets import fashion_mnist"
      ],
      "metadata": {
        "id": "XgneOA65deX8"
      },
      "execution_count": null,
      "outputs": []
    },
    {
      "cell_type": "code",
      "source": [
        "# Load the Fashion MNIST dataset\n",
        "(x_train, _), (x_test, _) = fashion_mnist.load_data()"
      ],
      "metadata": {
        "colab": {
          "base_uri": "https://localhost:8080/"
        },
        "id": "GpnQtaeFdvfF",
        "outputId": "af46166f-dd15-4505-d201-b7c638f45407"
      },
      "execution_count": null,
      "outputs": [
        {
          "output_type": "stream",
          "name": "stdout",
          "text": [
            "Downloading data from https://storage.googleapis.com/tensorflow/tf-keras-datasets/train-labels-idx1-ubyte.gz\n",
            "29515/29515 [==============================] - 0s 0us/step\n",
            "Downloading data from https://storage.googleapis.com/tensorflow/tf-keras-datasets/train-images-idx3-ubyte.gz\n",
            "26421880/26421880 [==============================] - 2s 0us/step\n",
            "Downloading data from https://storage.googleapis.com/tensorflow/tf-keras-datasets/t10k-labels-idx1-ubyte.gz\n",
            "5148/5148 [==============================] - 0s 0us/step\n",
            "Downloading data from https://storage.googleapis.com/tensorflow/tf-keras-datasets/t10k-images-idx3-ubyte.gz\n",
            "4422102/4422102 [==============================] - 0s 0us/step\n"
          ]
        }
      ]
    },
    {
      "cell_type": "code",
      "source": [
        "# Normalize the pixel values to be between 0 and 1\n",
        "x_train = x_train.astype(\"float32\") / 255\n",
        "x_test = x_test.astype(\"float32\") / 255"
      ],
      "metadata": {
        "id": "ieolYdSZgBl1"
      },
      "execution_count": null,
      "outputs": []
    },
    {
      "cell_type": "code",
      "source": [
        "# Flatten the images\n",
        "x_train = x_train.reshape((len(x_train), np.prod(x_train.shape[1:])))\n",
        "x_test = x_test.reshape((len(x_test), np.prod(x_test.shape[1:])))\n",
        "print(x_train.shape)\n",
        "print(x_test.shape)"
      ],
      "metadata": {
        "colab": {
          "base_uri": "https://localhost:8080/"
        },
        "id": "0B33qgjwgSSD",
        "outputId": "9a5b6a15-26d3-4cec-9bd0-2e79deaec22d"
      },
      "execution_count": null,
      "outputs": [
        {
          "output_type": "stream",
          "name": "stdout",
          "text": [
            "(60000, 784)\n",
            "(10000, 784)\n"
          ]
        }
      ]
    },
    {
      "cell_type": "code",
      "source": [
        "# Create the encoder\n",
        "encoding_dim = 64\n",
        "input_img = keras.Input(shape=(784,))\n",
        "encoded = layers.Dense(encoding_dim, activation=\"relu\")(input_img)"
      ],
      "metadata": {
        "id": "mxw_AN8mgWVc"
      },
      "execution_count": null,
      "outputs": []
    },
    {
      "cell_type": "code",
      "source": [
        "# Create the decoder\n",
        "decoded = layers.Dense(784, activation=\"sigmoid\")(encoded)"
      ],
      "metadata": {
        "id": "ti5j4eneggWM"
      },
      "execution_count": null,
      "outputs": []
    },
    {
      "cell_type": "code",
      "source": [
        "# Create the autoencoder\n",
        "autoencoder = keras.Model(input_img, decoded)"
      ],
      "metadata": {
        "id": "aB1b02dugspr"
      },
      "execution_count": null,
      "outputs": []
    },
    {
      "cell_type": "code",
      "source": [
        "autoencoder.compile(optimizer=\"adam\", loss=\"mse\")"
      ],
      "metadata": {
        "id": "amBgT6nng8Pc"
      },
      "execution_count": null,
      "outputs": []
    },
    {
      "cell_type": "code",
      "source": [
        "# Train the autoencoder\n",
        "autoencoder.fit(x_train, x_train, epochs=10, batch_size=256, shuffle=True, validation_data=(x_test, x_test))"
      ],
      "metadata": {
        "colab": {
          "base_uri": "https://localhost:8080/"
        },
        "id": "RLL9Se18hDfs",
        "outputId": "e7576446-3fc6-4367-e396-d966c9d98b6a"
      },
      "execution_count": null,
      "outputs": [
        {
          "output_type": "stream",
          "name": "stdout",
          "text": [
            "Epoch 1/10\n",
            "235/235 [==============================] - 3s 11ms/step - loss: 0.0525 - val_loss: 0.0285\n",
            "Epoch 2/10\n",
            "235/235 [==============================] - 2s 9ms/step - loss: 0.0238 - val_loss: 0.0206\n",
            "Epoch 3/10\n",
            "235/235 [==============================] - 2s 9ms/step - loss: 0.0180 - val_loss: 0.0161\n",
            "Epoch 4/10\n",
            "235/235 [==============================] - 2s 9ms/step - loss: 0.0148 - val_loss: 0.0140\n",
            "Epoch 5/10\n",
            "235/235 [==============================] - 2s 9ms/step - loss: 0.0132 - val_loss: 0.0127\n",
            "Epoch 6/10\n",
            "235/235 [==============================] - 2s 9ms/step - loss: 0.0122 - val_loss: 0.0119\n",
            "Epoch 7/10\n",
            "235/235 [==============================] - 2s 9ms/step - loss: 0.0115 - val_loss: 0.0113\n",
            "Epoch 8/10\n",
            "235/235 [==============================] - 2s 9ms/step - loss: 0.0110 - val_loss: 0.0109\n",
            "Epoch 9/10\n",
            "235/235 [==============================] - 2s 9ms/step - loss: 0.0106 - val_loss: 0.0105\n",
            "Epoch 10/10\n",
            "235/235 [==============================] - 2s 9ms/step - loss: 0.0103 - val_loss: 0.0103\n"
          ]
        },
        {
          "output_type": "execute_result",
          "data": {
            "text/plain": [
              "<keras.callbacks.History at 0x7f1ab67c9bb0>"
            ]
          },
          "metadata": {},
          "execution_count": 9
        }
      ]
    },
    {
      "cell_type": "code",
      "source": [
        "# Encode and decode some digits\n",
        "# Note that we take them from the *test* set\n",
        "encoded_imgs = autoencoder.predict(x_test)\n",
        "decoded_imgs = autoencoder.predict(x_test)\n"
      ],
      "metadata": {
        "colab": {
          "base_uri": "https://localhost:8080/"
        },
        "id": "SAZFkYM5hJl0",
        "outputId": "53d876c5-d400-4b5b-faba-bd8e02bab079"
      },
      "execution_count": null,
      "outputs": [
        {
          "output_type": "stream",
          "name": "stdout",
          "text": [
            "313/313 [==============================] - 1s 2ms/step\n",
            "313/313 [==============================] - 1s 2ms/step\n"
          ]
        }
      ]
    },
    {
      "cell_type": "code",
      "source": [
        "# Display the original and reconstructed images\n",
        "n = 10\n",
        "plt.figure(figsize=(20, 4))\n",
        "for i in range(n):\n",
        "    # Display original\n",
        "    ax = plt.subplot(2, n, i + 1)\n",
        "    plt.imshow(x_test[i].reshape(28, 28))\n",
        "    plt.gray()\n",
        "    ax.get_xaxis().set_visible(False)\n",
        "    ax.get_yaxis().set_visible(False)\n",
        "\n",
        "    # Display reconstruction\n",
        "    ax = plt.subplot(2, n, i + 1 + n)\n",
        "    plt.imshow(decoded_imgs[i].reshape(28, 28))\n",
        "    plt.gray()\n",
        "    ax.get_xaxis().set_visible(False)\n",
        "    ax.get_yaxis().set_visible(False)\n",
        "    plt.show()"
      ],
      "metadata": {
        "colab": {
          "base_uri": "https://localhost:8080/",
          "height": 1000
        },
        "id": "dyRvLPFhhdfr",
        "outputId": "4a1cc6ae-2a8f-4166-ff09-cb20e8a55963"
      },
      "execution_count": null,
      "outputs": [
        {
          "output_type": "display_data",
          "data": {
            "text/plain": [
              "<Figure size 1440x288 with 2 Axes>"
            ],
            "image/png": "[encoded data removed]"
          },
          "metadata": {
            "needs_background": "light"
          }
        },
        {
          "output_type": "display_data",
          "data": {
            "text/plain": [
              "<Figure size 432x288 with 2 Axes>"
            ],
            "image/png": "[encoded data removed]"
          },
          "metadata": {
            "needs_background": "light"
          }
        },
        {
          "output_type": "display_data",
          "data": {
            "text/plain": [
              "<Figure size 432x288 with 2 Axes>"
            ],
            "image/png": "[encoded data removed]"
          },
          "metadata": {
            "needs_background": "light"
          }
        },
        {
          "output_type": "display_data",
          "data": {
            "text/plain": [
              "<Figure size 432x288 with 2 Axes>"
            ],
            "image/png": "[encoded data removed]"
          },
          "metadata": {
            "needs_background": "light"
          }
        },
        {
          "output_type": "display_data",
          "data": {
            "text/plain": [
              "<Figure size 432x288 with 2 Axes>"
            ],
            "image/png": "[encoded data removed]"
          },
          "metadata": {
            "needs_background": "light"
          }
        },
        {
          "output_type": "display_data",
          "data": {
            "text/plain": [
              "<Figure size 432x288 with 2 Axes>"
            ],
            "image/png": "[encoded data removed]"
          },
          "metadata": {
            "needs_background": "light"
          }
        },
        {
          "output_type": "display_data",
          "data": {
            "text/plain": [
              "<Figure size 432x288 with 2 Axes>"
            ],
            "image/png": "[encoded data removed]"
          },
          "metadata": {
            "needs_background": "light"
          }
        },
        {
          "output_type": "display_data",
          "data": {
            "text/plain": [
              "<Figure size 432x288 with 2 Axes>"
            ],
            "image/png": "[encoded data removed]"
          },
          "metadata": {
            "needs_background": "light"
          }
        },
        {
          "output_type": "display_data",
          "data": {
            "text/plain": [
              "<Figure size 432x288 with 2 Axes>"
            ],
            "image/png": "[encoded data removed]"
          },
          "metadata": {
            "needs_background": "light"
          }
        },
        {
          "output_type": "display_data",
          "data": {
            "text/plain": [
              "<Figure size 432x288 with 2 Axes>"
            ],
            "image/png": "[encoded data removed]"
          },
          "metadata": {
            "needs_background": "light"
          }
        }
      ]
    },
    {
      "cell_type": "code",
      "source": [],
      "metadata": {
        "id": "siwj6rD_hk97"
      },
      "execution_count": null,
      "outputs": []
    }
  ]
}